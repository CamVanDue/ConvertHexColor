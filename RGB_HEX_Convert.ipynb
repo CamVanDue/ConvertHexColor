{
 "cells": [
  {
   "cell_type": "markdown",
   "metadata": {},
   "source": [
    "RGB HEX Converter\n"
   ]
  },
  {
   "cell_type": "code",
   "execution_count": 2,
   "metadata": {},
   "outputs": [],
   "source": [
    "def rgb_hex():\n",
    "    invalid_msg=\"Invalid value entered\"\n",
    "    red = int(input(\"Red: \"))\n",
    "    if red>255 or red<0:\n",
    "        print (invalid_msg)\n",
    "    green = int(input(\"green: \"))\n",
    "    if green>255 or green<0:\n",
    "        print (invalid_msg)\n",
    "    blue = int(input(\"blue: \"))\n",
    "    if blue>255 or blue<0:\n",
    "        print (invalid_msg)\n",
    "    val=(red<<16)+(green<<8)+blue\n",
    "    print (hex(val)[2:].upper())"
   ]
  },
  {
   "cell_type": "code",
   "execution_count": 9,
   "metadata": {},
   "outputs": [],
   "source": [
    "def hex_rgb():\n",
    "    hex_val=input(\"Hex: \")\n",
    "    if len(hex_val)!=6:\n",
    "        print (\"Invalid value\")\n",
    "        return\n",
    "    else:\n",
    "        hex_val=int(hex_val,16)\n",
    "    two_hex_digits=2**8\n",
    "    blue=hex_val%two_hex_digits\n",
    "    hex_val=hex_val>>8\n",
    "    green=hex_val%two_hex_digits\n",
    "    hex_val=hex_val>>8\n",
    "    red=hex_val%two_hex_digits\n",
    "    print (\"RGB(%s,%s,%s)\" %(red,green,blue))"
   ]
  },
  {
   "cell_type": "code",
   "execution_count": 10,
   "metadata": {},
   "outputs": [],
   "source": [
    "def convert():\n",
    "    while True:\n",
    "        option=input(\"Enter 1 to convert RGB to HEX. Enter 2 to convert HEX to RGB. Enter x to exit.\")\n",
    "        if option==\"1\":\n",
    "            print (\"RGB to HEX...\")\n",
    "            rgb_hex()\n",
    "        elif option==\"2\":\n",
    "            print (\"HEX to RGB...\")\n",
    "            hex_rgb()\n",
    "        elif option=='x' or option==\"X\":\n",
    "            print (\"Goodbye\")\n",
    "            break\n",
    "        else:\n",
    "            print (\"Error\")"
   ]
  },
  {
   "cell_type": "code",
   "execution_count": 11,
   "metadata": {},
   "outputs": [
    {
     "name": "stdin",
     "output_type": "stream",
     "text": [
      "Enter 1 to convert RGB to HEX. Enter 2 to convert HEX to RGB. Enter x to exit. 1\n"
     ]
    },
    {
     "name": "stdout",
     "output_type": "stream",
     "text": [
      "RGB to HEX...\n"
     ]
    },
    {
     "name": "stdin",
     "output_type": "stream",
     "text": [
      "Red:  255\n",
      "green:  100\n",
      "blue:  0\n"
     ]
    },
    {
     "name": "stdout",
     "output_type": "stream",
     "text": [
      "FF6400\n"
     ]
    },
    {
     "name": "stdin",
     "output_type": "stream",
     "text": [
      "Enter 1 to convert RGB to HEX. Enter 2 to convert HEX to RGB. Enter x to exit. 2\n"
     ]
    },
    {
     "name": "stdout",
     "output_type": "stream",
     "text": [
      "HEX to RGB...\n"
     ]
    },
    {
     "name": "stdin",
     "output_type": "stream",
     "text": [
      "Hex:  ff5400\n"
     ]
    },
    {
     "name": "stdout",
     "output_type": "stream",
     "text": [
      "RGB(255,84,0)\n"
     ]
    },
    {
     "name": "stdin",
     "output_type": "stream",
     "text": [
      "Enter 1 to convert RGB to HEX. Enter 2 to convert HEX to RGB. Enter x to exit. x\n"
     ]
    },
    {
     "name": "stdout",
     "output_type": "stream",
     "text": [
      "Goodbye\n"
     ]
    }
   ],
   "source": [
    "convert()"
   ]
  },
  {
   "cell_type": "code",
   "execution_count": null,
   "metadata": {},
   "outputs": [],
   "source": []
  }
 ],
 "metadata": {
  "kernelspec": {
   "display_name": "Python 3",
   "language": "python",
   "name": "python3"
  },
  "language_info": {
   "codemirror_mode": {
    "name": "ipython",
    "version": 3
   },
   "file_extension": ".py",
   "mimetype": "text/x-python",
   "name": "python",
   "nbconvert_exporter": "python",
   "pygments_lexer": "ipython3",
   "version": "3.6.5"
  }
 },
 "nbformat": 4,
 "nbformat_minor": 2
}
